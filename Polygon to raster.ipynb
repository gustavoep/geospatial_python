{
 "cells": [
  {
   "cell_type": "markdown",
   "id": "ca7c36fa",
   "metadata": {},
   "source": [
    "## Rasterize a polygon\n",
    "\n",
    "Example from [here](https://pygis.io/docs/e_raster_rasterize.html)."
   ]
  },
  {
   "cell_type": "code",
   "execution_count": 11,
   "id": "8056b893",
   "metadata": {},
   "outputs": [],
   "source": [
    "# Import libraries\n",
    "import geopandas as gp\n",
    "import rasterio as rio\n",
    "import matplotlib.pyplot as plt\n",
    "from rasterio import features\n",
    "from rasterio.plot import show\n",
    "from rasterio.enums import MergeAlg"
   ]
  },
  {
   "cell_type": "code",
   "execution_count": 7,
   "id": "4fd8245c",
   "metadata": {},
   "outputs": [],
   "source": [
    "# Read in vector and get list of geometries for all features in vector file\n",
    "vector = gp.read_file(\"C:/Users/neliq/Documents/NIF/Rothamsted/shapefiles/soil_layer.shp\")\n",
    "geom = [shapes for shapes in vector.geometry]"
   ]
  },
  {
   "cell_type": "code",
   "execution_count": 8,
   "id": "0589006c",
   "metadata": {},
   "outputs": [],
   "source": [
    "# Open example raster\n",
    "raster = rio.open(\"C:/Users/neliq/Documents/NIF/Rothamsted/rasters/covsL5_soil_field_1.tif\")"
   ]
  },
  {
   "cell_type": "code",
   "execution_count": 14,
   "id": "6f8ae4cb",
   "metadata": {},
   "outputs": [
    {
     "data": {
      "image/png": "[encoded data removed]",
      "text/plain": [
       "<Figure size 720x720 with 1 Axes>"
      ]
     },
     "metadata": {
      "needs_background": "light"
     },
     "output_type": "display_data"
    }
   ],
   "source": [
    "# create tuples of geometry, value pairs, where value is the attribute value you want to burn\n",
    "geom_value = ((geom,value) for geom, value in zip(vector.geometry, vector['Soil_Code']))\n",
    "\n",
    "# Rasterize vector using the shape and transform of the raster\n",
    "rasterized = features.rasterize(geom_value,\n",
    "                                out_shape = raster.shape,\n",
    "                                transform = raster.transform,\n",
    "                                all_touched = True,\n",
    "                                fill = -5,   # background value\n",
    "                                merge_alg = MergeAlg.replace)\n",
    "\n",
    "# Plot raster\n",
    "fig, ax = plt.subplots(1, figsize = (10, 10))\n",
    "show(rasterized, ax = ax)\n",
    "plt.gca().invert_yaxis()"
   ]
  },
  {
   "cell_type": "code",
   "execution_count": 15,
   "id": "c4237f77",
   "metadata": {},
   "outputs": [],
   "source": [
    "# Export raster\n",
    "with rio.open(\"rasterized_soil.tif\", \"w\",\n",
    "        driver = \"GTiff\",\n",
    "        transform = raster.transform,\n",
    "        dtype = rio.int16,\n",
    "        count = 1,\n",
    "        width = raster.width,\n",
    "        height = raster.height) as dst:\n",
    "    dst.write(rasterized, indexes = 1)"
   ]
  }
 ],
 "metadata": {
  "kernelspec": {
   "display_name": "geo_env",
   "language": "python",
   "name": "geo_env"
  },
  "language_info": {
   "codemirror_mode": {
    "name": "ipython",
    "version": 3
   },
   "file_extension": ".py",
   "mimetype": "text/x-python",
   "name": "python",
   "nbconvert_exporter": "python",
   "pygments_lexer": "ipython3",
   "version": "3.10.5"
  }
 },
 "nbformat": 4,
 "nbformat_minor": 5
}
